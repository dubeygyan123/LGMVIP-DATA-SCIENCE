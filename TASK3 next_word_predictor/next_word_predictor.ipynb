{
 "cells": [
  {
   "cell_type": "markdown",
   "metadata": {
    "colab_type": "text",
    "id": "view-in-github"
   },
   "source": [
    "<a href=\"https://colab.research.google.com/github/EktaSingh1612/LGMVIP/blob/main/next_word_predictor.ipynb\" target=\"_parent\"><img src=\"https://colab.research.google.com/assets/colab-badge.svg\" alt=\"Open In Colab\"/></a>"
   ]
  },
  {
   "cell_type": "markdown",
   "metadata": {
    "id": "IsMVjPU88bQN"
   },
   "source": [
    "# LGMVIP Data Science Internship\n",
    "\n",
    "##Author : Gyan Prakash Dubey\n",
    "\n",
    "##Advanced Level Task 2 - NEXT WORD PREDICTION\n",
    "\n",
    "###Technique used: Using Tensorflow and Keras library train a RNN, to predict the next word."
   ]
  },
  {
   "cell_type": "markdown",
   "metadata": {
    "id": "M0XduvWY9M4q"
   },
   "source": [
    "# Importing libraries"
   ]
  },
  {
   "cell_type": "code",
   "execution_count": null,
   "metadata": {
    "id": "LvTXtNCA52G4"
   },
   "outputs": [],
   "source": [
    "import numpy as np\n",
    "from nltk. tokenize import RegexpTokenizer \n",
    "from keras.models import Sequential, load_model \n",
    "from keras.layers import LSTM\n",
    "from keras.layers.core import Dense, Activation \n",
    "from tensorflow.keras.optimizers import RMSprop\n",
    "import matplotlib.pyplot as plt \n",
    "import pickle\n",
    "import heapq"
   ]
  },
  {
   "cell_type": "markdown",
   "metadata": {
    "id": "WmavkC379XFi"
   },
   "source": [
    "\n",
    "\n",
    "# Load the data"
   ]
  },
  {
   "cell_type": "code",
   "execution_count": null,
   "metadata": {
    "colab": {
     "base_uri": "https://localhost:8080/"
    },
    "id": "z1yk2usJ589P",
    "outputId": "4d2ea3bc-d250-4770-fa20-ec4a525af57d"
   },
   "outputs": [
    {
     "name": "stdout",
     "output_type": "stream",
     "text": [
      "corpus length: 581888\n"
     ]
    }
   ],
   "source": [
    "txtfile = '1661-0.txt'\n",
    "text = open(txtfile, encoding='utf-8').read().lower() \n",
    "print('corpus length:', len(text))"
   ]
  },
  {
   "cell_type": "markdown",
   "metadata": {
    "id": "jXsZT_b69j9t"
   },
   "source": [
    "# Split the entire dataset into each word"
   ]
  },
  {
   "cell_type": "code",
   "execution_count": null,
   "metadata": {
    "id": "3wzCA6V76lKY"
   },
   "outputs": [],
   "source": [
    "tokenizer = RegexpTokenizer(r'\\w+')\n",
    "words = tokenizer.tokenize(text)"
   ]
  },
  {
   "cell_type": "markdown",
   "metadata": {
    "id": "2TuTNa6J9qDT"
   },
   "source": [
    "# Uniquely sorted word List"
   ]
  },
  {
   "cell_type": "code",
   "execution_count": null,
   "metadata": {
    "id": "ieIljmfS7Hnc"
   },
   "outputs": [],
   "source": [
    "unique_words = np.unique(words)\n",
    "unique_word_index = dict((c, i) for i, c in enumerate(unique_words))"
   ]
  },
  {
   "cell_type": "markdown",
   "metadata": {
    "id": "k4GZc8mu9vHy"
   },
   "source": [
    "# Feature Engineering & One Hot Encoding"
   ]
  },
  {
   "cell_type": "code",
   "execution_count": null,
   "metadata": {
    "colab": {
     "base_uri": "https://localhost:8080/"
    },
    "id": "PVM0Hu5w7MO5",
    "outputId": "efe89806-527c-43ad-9e4d-617866d834a1"
   },
   "outputs": [
    {
     "name": "stdout",
     "output_type": "stream",
     "text": [
      "['project', 'gutenberg', 's', 'the', 'adventures']\n",
      "of\n"
     ]
    }
   ],
   "source": [
    "WORD_LENGTH= 5\n",
    "prev_words = [] \n",
    "next_words = []\n",
    "for i in range(len (words) - WORD_LENGTH):\n",
    "    prev_words.append(words[i:i + WORD_LENGTH])\n",
    "    next_words.append(words[i + WORD_LENGTH])\n",
    "\n",
    "print(prev_words[0]) \n",
    "print(next_words[0])"
   ]
  },
  {
   "cell_type": "markdown",
   "metadata": {
    "id": "Nm_S0HYf96I-"
   },
   "source": [
    "## X: sorting the features\n",
    "\n",
    "## Y: sorting the corresponding label(here, next word)"
   ]
  },
  {
   "cell_type": "code",
   "execution_count": null,
   "metadata": {
    "id": "8KYiXh297QSC"
   },
   "outputs": [],
   "source": [
    "X = np.zeros((len(prev_words), WORD_LENGTH, len(unique_words)), dtype=bool)\n",
    "Y = np.zeros((len (next_words), len(unique_words)), dtype=bool)\n",
    "for i, each_words in enumerate(prev_words):\n",
    "    for j, each_word in enumerate(each_words):\n",
    "        X[i, j, unique_word_index[each_word]] = 1\n",
    "    Y[i, unique_word_index[next_words[i]]] = 1"
   ]
  },
  {
   "cell_type": "markdown",
   "metadata": {
    "id": "Qr0oNrNJ-acq"
   },
   "source": [
    "# Single sequence"
   ]
  },
  {
   "cell_type": "code",
   "execution_count": null,
   "metadata": {
    "colab": {
     "base_uri": "https://localhost:8080/"
    },
    "id": "oZfZLoXK7Ucg",
    "outputId": "b344907d-91ba-486c-96f5-4aa8216c3680"
   },
   "outputs": [
    {
     "name": "stdout",
     "output_type": "stream",
     "text": [
      "[False False False ... False False False]\n"
     ]
    }
   ],
   "source": [
    "print(X[0][0])"
   ]
  },
  {
   "cell_type": "markdown",
   "metadata": {
    "id": "SgWh1a5f-eXe"
   },
   "source": [
    "# Building the model"
   ]
  },
  {
   "cell_type": "code",
   "execution_count": null,
   "metadata": {
    "id": "0pcYFASX7Yhj"
   },
   "outputs": [],
   "source": [
    "model = Sequential()\n",
    "model.add(LSTM(128, input_shape=(WORD_LENGTH, len(unique_words))))\n",
    "model.add(Dense(len(unique_words)))   \n",
    "model.add(Activation('softmax'))"
   ]
  },
  {
   "cell_type": "markdown",
   "metadata": {
    "id": "5fGmlb5I-omB"
   },
   "source": [
    "# Training the model"
   ]
  },
  {
   "cell_type": "code",
   "execution_count": null,
   "metadata": {
    "colab": {
     "base_uri": "https://localhost:8080/"
    },
    "id": "P1Tfvnv_7bG7",
    "outputId": "1b199bcd-197e-444c-cf0c-ad4bd5030519"
   },
   "outputs": [
    {
     "name": "stderr",
     "output_type": "stream",
     "text": [
      "/usr/local/lib/python3.7/dist-packages/keras/optimizer_v2/rmsprop.py:130: UserWarning: The `lr` argument is deprecated, use `learning_rate` instead.\n",
      "  super(RMSprop, self).__init__(name, **kwargs)\n"
     ]
    },
    {
     "name": "stdout",
     "output_type": "stream",
     "text": [
      "Epoch 1/2\n",
      "811/811 [==============================] - 264s 322ms/step - loss: 6.0132 - accuracy: 0.1070 - val_loss: 7.0968 - val_accuracy: 0.1027\n",
      "Epoch 2/2\n",
      "811/811 [==============================] - 248s 306ms/step - loss: 5.7670 - accuracy: 0.1474 - val_loss: 7.9484 - val_accuracy: 0.1022\n"
     ]
    }
   ],
   "source": [
    "optimizer = RMSprop(lr = 0.01) \n",
    "model.compile(loss = 'categorical_crossentropy', optimizer = optimizer, metrics=['accuracy'])\n",
    "history = model.fit(X, Y, validation_split=0.05, batch_size=128, epochs=2, shuffle=True).history"
   ]
  },
  {
   "cell_type": "markdown",
   "metadata": {
    "id": "sle3mE63-sN7"
   },
   "source": [
    "# Load the model"
   ]
  },
  {
   "cell_type": "code",
   "execution_count": null,
   "metadata": {
    "id": "c7N5D-lI7ewN"
   },
   "outputs": [],
   "source": [
    "model.save('keras_next_word_model.h5') \n",
    "pickle.dump(history, open(\"history.p\", \"wb\")) \n",
    "model = load_model('keras_next_word_model.h5') \n",
    "history = pickle.load(open(\"history.p\", \"rb\"))"
   ]
  },
  {
   "cell_type": "markdown",
   "metadata": {
    "id": "rXBSUkpx-2h6"
   },
   "source": [
    "# Prediction"
   ]
  },
  {
   "cell_type": "markdown",
   "metadata": {
    "id": "G2_ba_TQ_kpF"
   },
   "source": [
    "#Choosing the best possible n word"
   ]
  },
  {
   "cell_type": "code",
   "execution_count": null,
   "metadata": {
    "colab": {
     "base_uri": "https://localhost:8080/"
    },
    "id": "kAv1pgGo90DO",
    "outputId": "f8534246-8475-4000-d2a4-bbee86d75fe6"
   },
   "outputs": [
    {
     "name": "stdout",
     "output_type": "stream",
     "text": [
      "it\n"
     ]
    },
    {
     "data": {
      "text/plain": [
       "array([[[0., 0., 0., ..., 0., 0., 0.],\n",
       "        [0., 0., 0., ..., 0., 0., 0.],\n",
       "        [0., 0., 0., ..., 0., 0., 0.],\n",
       "        [0., 0., 0., ..., 0., 0., 0.],\n",
       "        [0., 0., 0., ..., 0., 0., 0.]]])"
      ]
     },
     "execution_count": 13,
     "metadata": {},
     "output_type": "execute_result"
    }
   ],
   "source": [
    "def prepare_input(text):\n",
    "    x = np.zeros((1, WORD_LENGTH, len(unique_words))) \n",
    "    for t, word in enumerate(text.split()):\n",
    "        print (word)\n",
    "        x[0, t, unique_word_index[word]] = 1\n",
    "        return x \n",
    "prepare_input(\"It is not a lack\".lower())"
   ]
  },
  {
   "cell_type": "code",
   "execution_count": null,
   "metadata": {
    "id": "X4vsqdEI_cNu"
   },
   "outputs": [],
   "source": [
    "def sample(preds, top_n = 3):\n",
    "    preds= np.asarray(preds).astype('float64') \n",
    "    preds= np.log(preds)\n",
    "    exp_preds= np.exp(preds) \n",
    "    preds= exp_preds/np.sum(exp_preds) \n",
    "    return heapq.nlargest(top_n, range(len(preds)), preds.take)"
   ]
  },
  {
   "cell_type": "markdown",
   "metadata": {
    "id": "P0_YsL-i_CIM"
   },
   "source": [
    "# Function for Prediction"
   ]
  },
  {
   "cell_type": "code",
   "execution_count": null,
   "metadata": {
    "id": "6dXRxYrg-9pm"
   },
   "outputs": [],
   "source": [
    "def predict_completions(text, n=3):\n",
    "    if text == \"\":\n",
    "        return(\"\")\n",
    "    x = prepare_input(text) \n",
    "    preds = model.predict(x, verbose=0)[0]\n",
    "    next_indices = sample(preds, n)\n",
    "    return [unique_words[idx] for idx in next_indices]"
   ]
  },
  {
   "cell_type": "markdown",
   "metadata": {
    "id": "r0f3nkTk__oQ"
   },
   "source": [
    "#Using tokenizer.tokenize for removing punctuations"
   ]
  },
  {
   "cell_type": "code",
   "execution_count": null,
   "metadata": {
    "colab": {
     "base_uri": "https://localhost:8080/"
    },
    "id": "5YeSO9NG_4Ch",
    "outputId": "a0ec191d-35fe-498c-e59e-f55bf5b6c559"
   },
   "outputs": [
    {
     "name": "stdout",
     "output_type": "stream",
     "text": [
      "correct sentence:  Light the candle instead of cursuing darkness\n",
      "Sequence:  light the candle instead of\n",
      "light\n",
      "next possible words:  ['and', 'the', 'a', 'of', 'with']\n"
     ]
    }
   ],
   "source": [
    "q = \"Light the candle instead of cursuing darkness\" \n",
    "print(\"correct sentence: \",q) \n",
    "seq = \" \".join(tokenizer.tokenize(q.lower())[0:5]) \n",
    "print(\"Sequence: \",seq) \n",
    "print(\"next possible words: \", predict_completions(seq, 5))"
   ]
  },
  {
   "cell_type": "code",
   "execution_count": null,
   "metadata": {
    "id": "DUoBbPSeAEDF"
   },
   "outputs": [],
   "source": []
  }
 ],
 "metadata": {
  "colab": {
   "authorship_tag": "ABX9TyOwoU6UnDbYHkFQn5aMY8Lv",
   "collapsed_sections": [],
   "include_colab_link": true,
   "name": "next word predictor.ipynb",
   "provenance": [],
   "toc_visible": true
  },
  "kernelspec": {
   "display_name": "Python 3 (ipykernel)",
   "language": "python",
   "name": "python3"
  },
  "language_info": {
   "codemirror_mode": {
    "name": "ipython",
    "version": 3
   },
   "file_extension": ".py",
   "mimetype": "text/x-python",
   "name": "python",
   "nbconvert_exporter": "python",
   "pygments_lexer": "ipython3",
   "version": "3.10.0"
  }
 },
 "nbformat": 4,
 "nbformat_minor": 1
}
